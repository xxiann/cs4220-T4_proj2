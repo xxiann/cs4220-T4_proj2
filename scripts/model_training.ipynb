{
 "cells": [
  {
   "cell_type": "code",
   "execution_count": 39,
   "id": "8348d9f5",
   "metadata": {},
   "outputs": [],
   "source": [
    "#importing libraries\n",
    "import pandas as pd\n",
    "import numpy as np\n",
    "from sklearn import preprocessing\n",
    "from sklearn.model_selection import train_test_split\n",
    "from sklearn.ensemble import RandomForestClassifier\n",
    "from sklearn.metrics import confusion_matrix, ConfusionMatrixDisplay\n",
    "import matplotlib.pyplot as plt\n",
    "from sklearn.metrics import precision_score\n",
    "import pickle"
   ]
  },
  {
   "cell_type": "code",
   "execution_count": 10,
   "id": "2b7143b0",
   "metadata": {},
   "outputs": [],
   "source": [
    "#loading data\n",
    "x = np.load(\"C:/Users/zhich/Documents/GitHub/cs4220-T4_proj2/data/train.dataset.6mer.npy\")\n",
    "x = pd.DataFrame(x)\n",
    "y = pd.read_csv(\"C:/Users/zhich/Documents/GitHub/cs4220-T4_proj2/data/train_labels.csv\")"
   ]
  },
  {
   "cell_type": "code",
   "execution_count": 11,
   "id": "5a3ff39e",
   "metadata": {},
   "outputs": [],
   "source": [
    "#encode labels\n",
    "le = preprocessing.LabelEncoder()\n",
    "le.fit(y['genome_name'].unique())\n",
    "y_index = le.transform(y['genome_name'].values)"
   ]
  },
  {
   "cell_type": "code",
   "execution_count": 12,
   "id": "322c54f5",
   "metadata": {},
   "outputs": [
    {
     "data": {
      "text/plain": [
       "(505536, 2080)"
      ]
     },
     "execution_count": 12,
     "metadata": {},
     "output_type": "execute_result"
    }
   ],
   "source": [
    "x.shape"
   ]
  },
  {
   "cell_type": "code",
   "execution_count": 13,
   "id": "3707654a",
   "metadata": {},
   "outputs": [
    {
     "data": {
      "text/plain": [
       "(505536, 1)"
      ]
     },
     "execution_count": 13,
     "metadata": {},
     "output_type": "execute_result"
    }
   ],
   "source": [
    "y.shape"
   ]
  },
  {
   "cell_type": "code",
   "execution_count": 14,
   "id": "6d6ace50",
   "metadata": {},
   "outputs": [],
   "source": [
    "x['genome_label'] = y_index"
   ]
  },
  {
   "cell_type": "code",
   "execution_count": 28,
   "id": "1cf30bab",
   "metadata": {},
   "outputs": [],
   "source": [
    "#subsetting training set\n",
    "sample_size = x.genome_label.value_counts().to_frame().min().values[0]//10\n",
    "train_set = x.groupby('genome_label').apply(lambda x: x.sample(sample_size))"
   ]
  },
  {
   "cell_type": "code",
   "execution_count": 29,
   "id": "4e255d0d",
   "metadata": {},
   "outputs": [
    {
     "data": {
      "text/html": [
       "<div>\n",
       "<style scoped>\n",
       "    .dataframe tbody tr th:only-of-type {\n",
       "        vertical-align: middle;\n",
       "    }\n",
       "\n",
       "    .dataframe tbody tr th {\n",
       "        vertical-align: top;\n",
       "    }\n",
       "\n",
       "    .dataframe thead th {\n",
       "        text-align: right;\n",
       "    }\n",
       "</style>\n",
       "<table border=\"1\" class=\"dataframe\">\n",
       "  <thead>\n",
       "    <tr style=\"text-align: right;\">\n",
       "      <th></th>\n",
       "      <th></th>\n",
       "      <th>0</th>\n",
       "      <th>1</th>\n",
       "      <th>2</th>\n",
       "      <th>3</th>\n",
       "      <th>4</th>\n",
       "      <th>5</th>\n",
       "      <th>6</th>\n",
       "      <th>7</th>\n",
       "      <th>8</th>\n",
       "      <th>9</th>\n",
       "      <th>...</th>\n",
       "      <th>2071</th>\n",
       "      <th>2072</th>\n",
       "      <th>2073</th>\n",
       "      <th>2074</th>\n",
       "      <th>2075</th>\n",
       "      <th>2076</th>\n",
       "      <th>2077</th>\n",
       "      <th>2078</th>\n",
       "      <th>2079</th>\n",
       "      <th>genome_label</th>\n",
       "    </tr>\n",
       "    <tr>\n",
       "      <th>genome_label</th>\n",
       "      <th></th>\n",
       "      <th></th>\n",
       "      <th></th>\n",
       "      <th></th>\n",
       "      <th></th>\n",
       "      <th></th>\n",
       "      <th></th>\n",
       "      <th></th>\n",
       "      <th></th>\n",
       "      <th></th>\n",
       "      <th></th>\n",
       "      <th></th>\n",
       "      <th></th>\n",
       "      <th></th>\n",
       "      <th></th>\n",
       "      <th></th>\n",
       "      <th></th>\n",
       "      <th></th>\n",
       "      <th></th>\n",
       "      <th></th>\n",
       "      <th></th>\n",
       "      <th></th>\n",
       "    </tr>\n",
       "  </thead>\n",
       "  <tbody>\n",
       "    <tr>\n",
       "      <th rowspan=\"5\" valign=\"top\">0</th>\n",
       "      <th>49517</th>\n",
       "      <td>0.003956</td>\n",
       "      <td>0.003710</td>\n",
       "      <td>0.003462</td>\n",
       "      <td>0.001484</td>\n",
       "      <td>0.002474</td>\n",
       "      <td>0.002968</td>\n",
       "      <td>0.001978</td>\n",
       "      <td>0.001237</td>\n",
       "      <td>0.002720</td>\n",
       "      <td>0.001978</td>\n",
       "      <td>...</td>\n",
       "      <td>0.000000</td>\n",
       "      <td>0.000000</td>\n",
       "      <td>0.000247</td>\n",
       "      <td>0.000494</td>\n",
       "      <td>0.000000</td>\n",
       "      <td>0.000000</td>\n",
       "      <td>0.000000</td>\n",
       "      <td>0.000000</td>\n",
       "      <td>0.0</td>\n",
       "      <td>0</td>\n",
       "    </tr>\n",
       "    <tr>\n",
       "      <th>48957</th>\n",
       "      <td>0.003141</td>\n",
       "      <td>0.002356</td>\n",
       "      <td>0.002356</td>\n",
       "      <td>0.002226</td>\n",
       "      <td>0.001308</td>\n",
       "      <td>0.002094</td>\n",
       "      <td>0.001701</td>\n",
       "      <td>0.001701</td>\n",
       "      <td>0.002094</td>\n",
       "      <td>0.001178</td>\n",
       "      <td>...</td>\n",
       "      <td>0.000262</td>\n",
       "      <td>0.000000</td>\n",
       "      <td>0.000524</td>\n",
       "      <td>0.000000</td>\n",
       "      <td>0.000131</td>\n",
       "      <td>0.000000</td>\n",
       "      <td>0.000000</td>\n",
       "      <td>0.000000</td>\n",
       "      <td>0.0</td>\n",
       "      <td>0</td>\n",
       "    </tr>\n",
       "    <tr>\n",
       "      <th>49779</th>\n",
       "      <td>0.003382</td>\n",
       "      <td>0.001932</td>\n",
       "      <td>0.001932</td>\n",
       "      <td>0.002415</td>\n",
       "      <td>0.001450</td>\n",
       "      <td>0.000483</td>\n",
       "      <td>0.000483</td>\n",
       "      <td>0.001932</td>\n",
       "      <td>0.001932</td>\n",
       "      <td>0.000000</td>\n",
       "      <td>...</td>\n",
       "      <td>0.000966</td>\n",
       "      <td>0.000000</td>\n",
       "      <td>0.000483</td>\n",
       "      <td>0.000000</td>\n",
       "      <td>0.000000</td>\n",
       "      <td>0.000000</td>\n",
       "      <td>0.000000</td>\n",
       "      <td>0.000966</td>\n",
       "      <td>0.0</td>\n",
       "      <td>0</td>\n",
       "    </tr>\n",
       "    <tr>\n",
       "      <th>49085</th>\n",
       "      <td>0.000000</td>\n",
       "      <td>0.000743</td>\n",
       "      <td>0.000743</td>\n",
       "      <td>0.000743</td>\n",
       "      <td>0.002230</td>\n",
       "      <td>0.000000</td>\n",
       "      <td>0.002972</td>\n",
       "      <td>0.001486</td>\n",
       "      <td>0.000000</td>\n",
       "      <td>0.001486</td>\n",
       "      <td>...</td>\n",
       "      <td>0.000000</td>\n",
       "      <td>0.000000</td>\n",
       "      <td>0.000000</td>\n",
       "      <td>0.000000</td>\n",
       "      <td>0.000000</td>\n",
       "      <td>0.000000</td>\n",
       "      <td>0.000000</td>\n",
       "      <td>0.000000</td>\n",
       "      <td>0.0</td>\n",
       "      <td>0</td>\n",
       "    </tr>\n",
       "    <tr>\n",
       "      <th>49399</th>\n",
       "      <td>0.002586</td>\n",
       "      <td>0.000924</td>\n",
       "      <td>0.002031</td>\n",
       "      <td>0.001662</td>\n",
       "      <td>0.001293</td>\n",
       "      <td>0.002031</td>\n",
       "      <td>0.001847</td>\n",
       "      <td>0.000554</td>\n",
       "      <td>0.001847</td>\n",
       "      <td>0.001293</td>\n",
       "      <td>...</td>\n",
       "      <td>0.000000</td>\n",
       "      <td>0.000000</td>\n",
       "      <td>0.000000</td>\n",
       "      <td>0.000000</td>\n",
       "      <td>0.000000</td>\n",
       "      <td>0.000000</td>\n",
       "      <td>0.000000</td>\n",
       "      <td>0.000000</td>\n",
       "      <td>0.0</td>\n",
       "      <td>0</td>\n",
       "    </tr>\n",
       "    <tr>\n",
       "      <th>...</th>\n",
       "      <th>...</th>\n",
       "      <td>...</td>\n",
       "      <td>...</td>\n",
       "      <td>...</td>\n",
       "      <td>...</td>\n",
       "      <td>...</td>\n",
       "      <td>...</td>\n",
       "      <td>...</td>\n",
       "      <td>...</td>\n",
       "      <td>...</td>\n",
       "      <td>...</td>\n",
       "      <td>...</td>\n",
       "      <td>...</td>\n",
       "      <td>...</td>\n",
       "      <td>...</td>\n",
       "      <td>...</td>\n",
       "      <td>...</td>\n",
       "      <td>...</td>\n",
       "      <td>...</td>\n",
       "      <td>...</td>\n",
       "      <td>...</td>\n",
       "      <td>...</td>\n",
       "    </tr>\n",
       "    <tr>\n",
       "      <th rowspan=\"5\" valign=\"top\">30</th>\n",
       "      <th>74141</th>\n",
       "      <td>0.000788</td>\n",
       "      <td>0.001915</td>\n",
       "      <td>0.000225</td>\n",
       "      <td>0.000901</td>\n",
       "      <td>0.001915</td>\n",
       "      <td>0.001126</td>\n",
       "      <td>0.001689</td>\n",
       "      <td>0.001464</td>\n",
       "      <td>0.000338</td>\n",
       "      <td>0.000451</td>\n",
       "      <td>...</td>\n",
       "      <td>0.000451</td>\n",
       "      <td>0.000338</td>\n",
       "      <td>0.000788</td>\n",
       "      <td>0.000000</td>\n",
       "      <td>0.000451</td>\n",
       "      <td>0.000225</td>\n",
       "      <td>0.000113</td>\n",
       "      <td>0.000225</td>\n",
       "      <td>0.0</td>\n",
       "      <td>30</td>\n",
       "    </tr>\n",
       "    <tr>\n",
       "      <th>75176</th>\n",
       "      <td>0.003557</td>\n",
       "      <td>0.000889</td>\n",
       "      <td>0.000889</td>\n",
       "      <td>0.001779</td>\n",
       "      <td>0.001334</td>\n",
       "      <td>0.000889</td>\n",
       "      <td>0.000000</td>\n",
       "      <td>0.001334</td>\n",
       "      <td>0.000889</td>\n",
       "      <td>0.000000</td>\n",
       "      <td>...</td>\n",
       "      <td>0.000000</td>\n",
       "      <td>0.000000</td>\n",
       "      <td>0.000445</td>\n",
       "      <td>0.000000</td>\n",
       "      <td>0.000000</td>\n",
       "      <td>0.000889</td>\n",
       "      <td>0.000000</td>\n",
       "      <td>0.000889</td>\n",
       "      <td>0.0</td>\n",
       "      <td>30</td>\n",
       "    </tr>\n",
       "    <tr>\n",
       "      <th>74341</th>\n",
       "      <td>0.000667</td>\n",
       "      <td>0.000000</td>\n",
       "      <td>0.001333</td>\n",
       "      <td>0.002001</td>\n",
       "      <td>0.002001</td>\n",
       "      <td>0.001333</td>\n",
       "      <td>0.000000</td>\n",
       "      <td>0.000000</td>\n",
       "      <td>0.000000</td>\n",
       "      <td>0.001333</td>\n",
       "      <td>...</td>\n",
       "      <td>0.000000</td>\n",
       "      <td>0.000667</td>\n",
       "      <td>0.000667</td>\n",
       "      <td>0.000000</td>\n",
       "      <td>0.000000</td>\n",
       "      <td>0.000000</td>\n",
       "      <td>0.000667</td>\n",
       "      <td>0.000000</td>\n",
       "      <td>0.0</td>\n",
       "      <td>30</td>\n",
       "    </tr>\n",
       "    <tr>\n",
       "      <th>73789</th>\n",
       "      <td>0.001104</td>\n",
       "      <td>0.001104</td>\n",
       "      <td>0.000552</td>\n",
       "      <td>0.002209</td>\n",
       "      <td>0.001657</td>\n",
       "      <td>0.001104</td>\n",
       "      <td>0.000000</td>\n",
       "      <td>0.001104</td>\n",
       "      <td>0.001104</td>\n",
       "      <td>0.003313</td>\n",
       "      <td>...</td>\n",
       "      <td>0.002209</td>\n",
       "      <td>0.000000</td>\n",
       "      <td>0.000000</td>\n",
       "      <td>0.000000</td>\n",
       "      <td>0.000000</td>\n",
       "      <td>0.000000</td>\n",
       "      <td>0.000000</td>\n",
       "      <td>0.000000</td>\n",
       "      <td>0.0</td>\n",
       "      <td>30</td>\n",
       "    </tr>\n",
       "    <tr>\n",
       "      <th>74019</th>\n",
       "      <td>0.004143</td>\n",
       "      <td>0.002071</td>\n",
       "      <td>0.002071</td>\n",
       "      <td>0.001036</td>\n",
       "      <td>0.001036</td>\n",
       "      <td>0.000518</td>\n",
       "      <td>0.002071</td>\n",
       "      <td>0.003626</td>\n",
       "      <td>0.000000</td>\n",
       "      <td>0.001036</td>\n",
       "      <td>...</td>\n",
       "      <td>0.000000</td>\n",
       "      <td>0.000000</td>\n",
       "      <td>0.001036</td>\n",
       "      <td>0.000000</td>\n",
       "      <td>0.000000</td>\n",
       "      <td>0.000000</td>\n",
       "      <td>0.000518</td>\n",
       "      <td>0.001036</td>\n",
       "      <td>0.0</td>\n",
       "      <td>30</td>\n",
       "    </tr>\n",
       "  </tbody>\n",
       "</table>\n",
       "<p>2821 rows × 2081 columns</p>\n",
       "</div>"
      ],
      "text/plain": [
       "                           0         1         2         3         4  \\\n",
       "genome_label                                                           \n",
       "0            49517  0.003956  0.003710  0.003462  0.001484  0.002474   \n",
       "             48957  0.003141  0.002356  0.002356  0.002226  0.001308   \n",
       "             49779  0.003382  0.001932  0.001932  0.002415  0.001450   \n",
       "             49085  0.000000  0.000743  0.000743  0.000743  0.002230   \n",
       "             49399  0.002586  0.000924  0.002031  0.001662  0.001293   \n",
       "...                      ...       ...       ...       ...       ...   \n",
       "30           74141  0.000788  0.001915  0.000225  0.000901  0.001915   \n",
       "             75176  0.003557  0.000889  0.000889  0.001779  0.001334   \n",
       "             74341  0.000667  0.000000  0.001333  0.002001  0.002001   \n",
       "             73789  0.001104  0.001104  0.000552  0.002209  0.001657   \n",
       "             74019  0.004143  0.002071  0.002071  0.001036  0.001036   \n",
       "\n",
       "                           5         6         7         8         9  ...  \\\n",
       "genome_label                                                          ...   \n",
       "0            49517  0.002968  0.001978  0.001237  0.002720  0.001978  ...   \n",
       "             48957  0.002094  0.001701  0.001701  0.002094  0.001178  ...   \n",
       "             49779  0.000483  0.000483  0.001932  0.001932  0.000000  ...   \n",
       "             49085  0.000000  0.002972  0.001486  0.000000  0.001486  ...   \n",
       "             49399  0.002031  0.001847  0.000554  0.001847  0.001293  ...   \n",
       "...                      ...       ...       ...       ...       ...  ...   \n",
       "30           74141  0.001126  0.001689  0.001464  0.000338  0.000451  ...   \n",
       "             75176  0.000889  0.000000  0.001334  0.000889  0.000000  ...   \n",
       "             74341  0.001333  0.000000  0.000000  0.000000  0.001333  ...   \n",
       "             73789  0.001104  0.000000  0.001104  0.001104  0.003313  ...   \n",
       "             74019  0.000518  0.002071  0.003626  0.000000  0.001036  ...   \n",
       "\n",
       "                        2071      2072      2073      2074      2075  \\\n",
       "genome_label                                                           \n",
       "0            49517  0.000000  0.000000  0.000247  0.000494  0.000000   \n",
       "             48957  0.000262  0.000000  0.000524  0.000000  0.000131   \n",
       "             49779  0.000966  0.000000  0.000483  0.000000  0.000000   \n",
       "             49085  0.000000  0.000000  0.000000  0.000000  0.000000   \n",
       "             49399  0.000000  0.000000  0.000000  0.000000  0.000000   \n",
       "...                      ...       ...       ...       ...       ...   \n",
       "30           74141  0.000451  0.000338  0.000788  0.000000  0.000451   \n",
       "             75176  0.000000  0.000000  0.000445  0.000000  0.000000   \n",
       "             74341  0.000000  0.000667  0.000667  0.000000  0.000000   \n",
       "             73789  0.002209  0.000000  0.000000  0.000000  0.000000   \n",
       "             74019  0.000000  0.000000  0.001036  0.000000  0.000000   \n",
       "\n",
       "                        2076      2077      2078  2079  genome_label  \n",
       "genome_label                                                          \n",
       "0            49517  0.000000  0.000000  0.000000   0.0             0  \n",
       "             48957  0.000000  0.000000  0.000000   0.0             0  \n",
       "             49779  0.000000  0.000000  0.000966   0.0             0  \n",
       "             49085  0.000000  0.000000  0.000000   0.0             0  \n",
       "             49399  0.000000  0.000000  0.000000   0.0             0  \n",
       "...                      ...       ...       ...   ...           ...  \n",
       "30           74141  0.000225  0.000113  0.000225   0.0            30  \n",
       "             75176  0.000889  0.000000  0.000889   0.0            30  \n",
       "             74341  0.000000  0.000667  0.000000   0.0            30  \n",
       "             73789  0.000000  0.000000  0.000000   0.0            30  \n",
       "             74019  0.000000  0.000518  0.001036   0.0            30  \n",
       "\n",
       "[2821 rows x 2081 columns]"
      ]
     },
     "execution_count": 29,
     "metadata": {},
     "output_type": "execute_result"
    }
   ],
   "source": [
    "train_set"
   ]
  },
  {
   "cell_type": "code",
   "execution_count": 30,
   "id": "235b9fbf",
   "metadata": {},
   "outputs": [],
   "source": [
    "#train-test split\n",
    "x_train, x_test, y_train, y_test = train_test_split(train_set.iloc[:,:-1], train_set[\"genome_label\"], random_state=0)"
   ]
  },
  {
   "cell_type": "code",
   "execution_count": 31,
   "id": "0d123896",
   "metadata": {},
   "outputs": [],
   "source": [
    "#random forest model parameters\n",
    "clf = RandomForestClassifier(n_estimators=1000,oob_score=True,random_state=0)"
   ]
  },
  {
   "cell_type": "code",
   "execution_count": 32,
   "id": "fe9686c5",
   "metadata": {},
   "outputs": [
    {
     "data": {
      "text/html": [
       "<style>#sk-container-id-1 {color: black;background-color: white;}#sk-container-id-1 pre{padding: 0;}#sk-container-id-1 div.sk-toggleable {background-color: white;}#sk-container-id-1 label.sk-toggleable__label {cursor: pointer;display: block;width: 100%;margin-bottom: 0;padding: 0.3em;box-sizing: border-box;text-align: center;}#sk-container-id-1 label.sk-toggleable__label-arrow:before {content: \"▸\";float: left;margin-right: 0.25em;color: #696969;}#sk-container-id-1 label.sk-toggleable__label-arrow:hover:before {color: black;}#sk-container-id-1 div.sk-estimator:hover label.sk-toggleable__label-arrow:before {color: black;}#sk-container-id-1 div.sk-toggleable__content {max-height: 0;max-width: 0;overflow: hidden;text-align: left;background-color: #f0f8ff;}#sk-container-id-1 div.sk-toggleable__content pre {margin: 0.2em;color: black;border-radius: 0.25em;background-color: #f0f8ff;}#sk-container-id-1 input.sk-toggleable__control:checked~div.sk-toggleable__content {max-height: 200px;max-width: 100%;overflow: auto;}#sk-container-id-1 input.sk-toggleable__control:checked~label.sk-toggleable__label-arrow:before {content: \"▾\";}#sk-container-id-1 div.sk-estimator input.sk-toggleable__control:checked~label.sk-toggleable__label {background-color: #d4ebff;}#sk-container-id-1 div.sk-label input.sk-toggleable__control:checked~label.sk-toggleable__label {background-color: #d4ebff;}#sk-container-id-1 input.sk-hidden--visually {border: 0;clip: rect(1px 1px 1px 1px);clip: rect(1px, 1px, 1px, 1px);height: 1px;margin: -1px;overflow: hidden;padding: 0;position: absolute;width: 1px;}#sk-container-id-1 div.sk-estimator {font-family: monospace;background-color: #f0f8ff;border: 1px dotted black;border-radius: 0.25em;box-sizing: border-box;margin-bottom: 0.5em;}#sk-container-id-1 div.sk-estimator:hover {background-color: #d4ebff;}#sk-container-id-1 div.sk-parallel-item::after {content: \"\";width: 100%;border-bottom: 1px solid gray;flex-grow: 1;}#sk-container-id-1 div.sk-label:hover label.sk-toggleable__label {background-color: #d4ebff;}#sk-container-id-1 div.sk-serial::before {content: \"\";position: absolute;border-left: 1px solid gray;box-sizing: border-box;top: 0;bottom: 0;left: 50%;z-index: 0;}#sk-container-id-1 div.sk-serial {display: flex;flex-direction: column;align-items: center;background-color: white;padding-right: 0.2em;padding-left: 0.2em;position: relative;}#sk-container-id-1 div.sk-item {position: relative;z-index: 1;}#sk-container-id-1 div.sk-parallel {display: flex;align-items: stretch;justify-content: center;background-color: white;position: relative;}#sk-container-id-1 div.sk-item::before, #sk-container-id-1 div.sk-parallel-item::before {content: \"\";position: absolute;border-left: 1px solid gray;box-sizing: border-box;top: 0;bottom: 0;left: 50%;z-index: -1;}#sk-container-id-1 div.sk-parallel-item {display: flex;flex-direction: column;z-index: 1;position: relative;background-color: white;}#sk-container-id-1 div.sk-parallel-item:first-child::after {align-self: flex-end;width: 50%;}#sk-container-id-1 div.sk-parallel-item:last-child::after {align-self: flex-start;width: 50%;}#sk-container-id-1 div.sk-parallel-item:only-child::after {width: 0;}#sk-container-id-1 div.sk-dashed-wrapped {border: 1px dashed gray;margin: 0 0.4em 0.5em 0.4em;box-sizing: border-box;padding-bottom: 0.4em;background-color: white;}#sk-container-id-1 div.sk-label label {font-family: monospace;font-weight: bold;display: inline-block;line-height: 1.2em;}#sk-container-id-1 div.sk-label-container {text-align: center;}#sk-container-id-1 div.sk-container {/* jupyter's `normalize.less` sets `[hidden] { display: none; }` but bootstrap.min.css set `[hidden] { display: none !important; }` so we also need the `!important` here to be able to override the default hidden behavior on the sphinx rendered scikit-learn.org. See: https://github.com/scikit-learn/scikit-learn/issues/21755 */display: inline-block !important;position: relative;}#sk-container-id-1 div.sk-text-repr-fallback {display: none;}</style><div id=\"sk-container-id-1\" class=\"sk-top-container\"><div class=\"sk-text-repr-fallback\"><pre>RandomForestClassifier(n_estimators=1000, oob_score=True, random_state=0)</pre><b>In a Jupyter environment, please rerun this cell to show the HTML representation or trust the notebook. <br />On GitHub, the HTML representation is unable to render, please try loading this page with nbviewer.org.</b></div><div class=\"sk-container\" hidden><div class=\"sk-item\"><div class=\"sk-estimator sk-toggleable\"><input class=\"sk-toggleable__control sk-hidden--visually\" id=\"sk-estimator-id-1\" type=\"checkbox\" checked><label for=\"sk-estimator-id-1\" class=\"sk-toggleable__label sk-toggleable__label-arrow\">RandomForestClassifier</label><div class=\"sk-toggleable__content\"><pre>RandomForestClassifier(n_estimators=1000, oob_score=True, random_state=0)</pre></div></div></div></div></div>"
      ],
      "text/plain": [
       "RandomForestClassifier(n_estimators=1000, oob_score=True, random_state=0)"
      ]
     },
     "execution_count": 32,
     "metadata": {},
     "output_type": "execute_result"
    }
   ],
   "source": [
    "#fitting model\n",
    "clf.fit(x_train, y_train.values.ravel())"
   ]
  },
  {
   "cell_type": "code",
   "execution_count": 33,
   "id": "ead4fd61",
   "metadata": {},
   "outputs": [
    {
     "data": {
      "text/plain": [
       "array([0.00178876, 0.00218607, 0.00112908, ..., 0.00042979, 0.00074644,\n",
       "       0.00031861])"
      ]
     },
     "execution_count": 33,
     "metadata": {},
     "output_type": "execute_result"
    }
   ],
   "source": [
    "#feature importances\n",
    "clf.feature_importances_"
   ]
  },
  {
   "cell_type": "code",
   "execution_count": 35,
   "id": "67986613",
   "metadata": {},
   "outputs": [
    {
     "data": {
      "text/plain": [
       "0.706855791962175"
      ]
     },
     "execution_count": 35,
     "metadata": {},
     "output_type": "execute_result"
    }
   ],
   "source": [
    "#oob score\n",
    "clf.oob_score_"
   ]
  },
  {
   "cell_type": "code",
   "execution_count": 36,
   "id": "0ce1883b",
   "metadata": {},
   "outputs": [],
   "source": [
    "#predictions for test set\n",
    "y_pred = clf.predict(x_test)"
   ]
  },
  {
   "cell_type": "code",
   "execution_count": 37,
   "id": "d7625150",
   "metadata": {},
   "outputs": [
    {
     "data": {
      "image/png": "[encoded data removed]",
      "text/plain": [
       "<Figure size 432x288 with 2 Axes>"
      ]
     },
     "metadata": {
      "needs_background": "light"
     },
     "output_type": "display_data"
    }
   ],
   "source": [
    "#confusion matrix\n",
    "cm = confusion_matrix(y_test, y_pred, labels=clf.classes_)\n",
    "disp = ConfusionMatrixDisplay(confusion_matrix=cm, display_labels=clf.classes_)\n",
    "disp.plot(cmap=plt.cm.Blues)\n",
    "plt.show()"
   ]
  },
  {
   "cell_type": "code",
   "execution_count": 40,
   "id": "aca7f291",
   "metadata": {},
   "outputs": [
    {
     "data": {
      "text/plain": [
       "0.7574156094146786"
      ]
     },
     "execution_count": 40,
     "metadata": {},
     "output_type": "execute_result"
    }
   ],
   "source": [
    "#precision score for predictions\n",
    "precision_score(y_test, y_pred, average='weighted')"
   ]
  },
  {
   "cell_type": "code",
   "execution_count": 41,
   "id": "230c0732",
   "metadata": {},
   "outputs": [],
   "source": [
    "#saving model\n",
    "filename = \"C:/Users/zhich/Documents/GitHub/cs4220-T4_proj2/models/rf_baseline.sav\"\n",
    "pickle.dump(clf, open(filename, 'wb'))"
   ]
  },
  {
   "cell_type": "code",
   "execution_count": null,
   "id": "8b2a3f90",
   "metadata": {},
   "outputs": [],
   "source": []
  }
 ],
 "metadata": {
  "kernelspec": {
   "display_name": "Python 3 (ipykernel)",
   "language": "python",
   "name": "python3"
  },
  "language_info": {
   "codemirror_mode": {
    "name": "ipython",
    "version": 3
   },
   "file_extension": ".py",
   "mimetype": "text/x-python",
   "name": "python",
   "nbconvert_exporter": "python",
   "pygments_lexer": "ipython3",
   "version": "3.10.4"
  }
 },
 "nbformat": 4,
 "nbformat_minor": 5
}
