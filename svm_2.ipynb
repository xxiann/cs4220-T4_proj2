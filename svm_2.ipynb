{
 "cells": [
  {
   "cell_type": "code",
   "execution_count": 1,
   "metadata": {},
   "outputs": [],
   "source": [
    "import numpy as np\n",
    "import pandas as pd\n",
    "import timeit\n",
    "\n",
    "from sklearn import preprocessing\n",
    "from sklearn.svm import SVC\n",
    "from sklearn.decomposition import TruncatedSVD\n",
    "from sklearn.model_selection import train_test_split\n",
    "\n",
    "import pickle as pkl\n",
    "from joblib import dump, load\n",
    "\n"
   ]
  },
  {
   "attachments": {},
   "cell_type": "markdown",
   "metadata": {},
   "source": [
    "# Loading data"
   ]
  },
  {
   "cell_type": "code",
   "execution_count": 2,
   "metadata": {},
   "outputs": [],
   "source": [
    "# load training dataset\n",
    "with open('datasets/train.dataset.6mer.npy', 'rb') as open_file:\n",
    "    df = np.load(open_file)\n",
    "df = pd.DataFrame(df)"
   ]
  },
  {
   "cell_type": "code",
   "execution_count": 3,
   "metadata": {},
   "outputs": [],
   "source": [
    "six_mers = pd.read_table('datasets/6mer_columns.txt', header=None)\n",
    "df.columns = six_mers[:2080]\n",
    "df.columns = [col[0] for col in df.columns]"
   ]
  },
  {
   "cell_type": "code",
   "execution_count": 4,
   "metadata": {},
   "outputs": [
    {
     "data": {
      "text/html": [
       "<div>\n",
       "<style scoped>\n",
       "    .dataframe tbody tr th:only-of-type {\n",
       "        vertical-align: middle;\n",
       "    }\n",
       "\n",
       "    .dataframe tbody tr th {\n",
       "        vertical-align: top;\n",
       "    }\n",
       "\n",
       "    .dataframe thead th {\n",
       "        text-align: right;\n",
       "    }\n",
       "</style>\n",
       "<table border=\"1\" class=\"dataframe\">\n",
       "  <thead>\n",
       "    <tr style=\"text-align: right;\">\n",
       "      <th></th>\n",
       "      <th>AAAAAA</th>\n",
       "      <th>AAAAAT</th>\n",
       "      <th>AAAAAG</th>\n",
       "      <th>AAAAAC</th>\n",
       "      <th>AAAATA</th>\n",
       "      <th>AAAATT</th>\n",
       "      <th>AAAATG</th>\n",
       "      <th>AAAATC</th>\n",
       "      <th>AAAAGA</th>\n",
       "      <th>AAAAGT</th>\n",
       "      <th>...</th>\n",
       "      <th>CCATGG</th>\n",
       "      <th>CCAGGG</th>\n",
       "      <th>CCACGG</th>\n",
       "      <th>CCTAGG</th>\n",
       "      <th>CCCAGG</th>\n",
       "      <th>CCGAGG</th>\n",
       "      <th>CCCCGG</th>\n",
       "      <th>CCGCGG</th>\n",
       "      <th>CCCGGG</th>\n",
       "      <th>genome_label</th>\n",
       "    </tr>\n",
       "  </thead>\n",
       "  <tbody>\n",
       "    <tr>\n",
       "      <th>0</th>\n",
       "      <td>0.002470</td>\n",
       "      <td>0.004528</td>\n",
       "      <td>0.003292</td>\n",
       "      <td>0.000823</td>\n",
       "      <td>0.003704</td>\n",
       "      <td>0.002880</td>\n",
       "      <td>0.001646</td>\n",
       "      <td>0.001646</td>\n",
       "      <td>0.001646</td>\n",
       "      <td>0.001646</td>\n",
       "      <td>...</td>\n",
       "      <td>0.000000</td>\n",
       "      <td>0.0</td>\n",
       "      <td>0.0</td>\n",
       "      <td>0.000000</td>\n",
       "      <td>0.000000</td>\n",
       "      <td>0.0</td>\n",
       "      <td>0.0</td>\n",
       "      <td>0.0</td>\n",
       "      <td>0.0</td>\n",
       "      <td>staphylococcus_aureus</td>\n",
       "    </tr>\n",
       "    <tr>\n",
       "      <th>1</th>\n",
       "      <td>0.001818</td>\n",
       "      <td>0.002857</td>\n",
       "      <td>0.002077</td>\n",
       "      <td>0.001558</td>\n",
       "      <td>0.003635</td>\n",
       "      <td>0.002338</td>\n",
       "      <td>0.002338</td>\n",
       "      <td>0.001039</td>\n",
       "      <td>0.001818</td>\n",
       "      <td>0.001039</td>\n",
       "      <td>...</td>\n",
       "      <td>0.000519</td>\n",
       "      <td>0.0</td>\n",
       "      <td>0.0</td>\n",
       "      <td>0.000519</td>\n",
       "      <td>0.000260</td>\n",
       "      <td>0.0</td>\n",
       "      <td>0.0</td>\n",
       "      <td>0.0</td>\n",
       "      <td>0.0</td>\n",
       "      <td>staphylococcus_aureus</td>\n",
       "    </tr>\n",
       "    <tr>\n",
       "      <th>2</th>\n",
       "      <td>0.003702</td>\n",
       "      <td>0.003084</td>\n",
       "      <td>0.001234</td>\n",
       "      <td>0.001851</td>\n",
       "      <td>0.002468</td>\n",
       "      <td>0.003084</td>\n",
       "      <td>0.003084</td>\n",
       "      <td>0.001851</td>\n",
       "      <td>0.001234</td>\n",
       "      <td>0.000617</td>\n",
       "      <td>...</td>\n",
       "      <td>0.000000</td>\n",
       "      <td>0.0</td>\n",
       "      <td>0.0</td>\n",
       "      <td>0.000000</td>\n",
       "      <td>0.000000</td>\n",
       "      <td>0.0</td>\n",
       "      <td>0.0</td>\n",
       "      <td>0.0</td>\n",
       "      <td>0.0</td>\n",
       "      <td>staphylococcus_aureus</td>\n",
       "    </tr>\n",
       "    <tr>\n",
       "      <th>3</th>\n",
       "      <td>0.001102</td>\n",
       "      <td>0.002756</td>\n",
       "      <td>0.003584</td>\n",
       "      <td>0.001378</td>\n",
       "      <td>0.003307</td>\n",
       "      <td>0.002481</td>\n",
       "      <td>0.002481</td>\n",
       "      <td>0.001102</td>\n",
       "      <td>0.001654</td>\n",
       "      <td>0.001378</td>\n",
       "      <td>...</td>\n",
       "      <td>0.000000</td>\n",
       "      <td>0.0</td>\n",
       "      <td>0.0</td>\n",
       "      <td>0.000000</td>\n",
       "      <td>0.000000</td>\n",
       "      <td>0.0</td>\n",
       "      <td>0.0</td>\n",
       "      <td>0.0</td>\n",
       "      <td>0.0</td>\n",
       "      <td>staphylococcus_aureus</td>\n",
       "    </tr>\n",
       "    <tr>\n",
       "      <th>4</th>\n",
       "      <td>0.004318</td>\n",
       "      <td>0.003534</td>\n",
       "      <td>0.002748</td>\n",
       "      <td>0.001701</td>\n",
       "      <td>0.003534</td>\n",
       "      <td>0.002356</td>\n",
       "      <td>0.002224</td>\n",
       "      <td>0.002617</td>\n",
       "      <td>0.003271</td>\n",
       "      <td>0.001440</td>\n",
       "      <td>...</td>\n",
       "      <td>0.000000</td>\n",
       "      <td>0.0</td>\n",
       "      <td>0.0</td>\n",
       "      <td>0.000262</td>\n",
       "      <td>0.000131</td>\n",
       "      <td>0.0</td>\n",
       "      <td>0.0</td>\n",
       "      <td>0.0</td>\n",
       "      <td>0.0</td>\n",
       "      <td>staphylococcus_aureus</td>\n",
       "    </tr>\n",
       "  </tbody>\n",
       "</table>\n",
       "<p>5 rows × 2081 columns</p>\n",
       "</div>"
      ],
      "text/plain": [
       "     AAAAAA    AAAAAT    AAAAAG    AAAAAC    AAAATA    AAAATT    AAAATG   \n",
       "0  0.002470  0.004528  0.003292  0.000823  0.003704  0.002880  0.001646  \\\n",
       "1  0.001818  0.002857  0.002077  0.001558  0.003635  0.002338  0.002338   \n",
       "2  0.003702  0.003084  0.001234  0.001851  0.002468  0.003084  0.003084   \n",
       "3  0.001102  0.002756  0.003584  0.001378  0.003307  0.002481  0.002481   \n",
       "4  0.004318  0.003534  0.002748  0.001701  0.003534  0.002356  0.002224   \n",
       "\n",
       "     AAAATC    AAAAGA    AAAAGT  ...    CCATGG  CCAGGG  CCACGG    CCTAGG   \n",
       "0  0.001646  0.001646  0.001646  ...  0.000000     0.0     0.0  0.000000  \\\n",
       "1  0.001039  0.001818  0.001039  ...  0.000519     0.0     0.0  0.000519   \n",
       "2  0.001851  0.001234  0.000617  ...  0.000000     0.0     0.0  0.000000   \n",
       "3  0.001102  0.001654  0.001378  ...  0.000000     0.0     0.0  0.000000   \n",
       "4  0.002617  0.003271  0.001440  ...  0.000000     0.0     0.0  0.000262   \n",
       "\n",
       "     CCCAGG  CCGAGG  CCCCGG  CCGCGG  CCCGGG           genome_label  \n",
       "0  0.000000     0.0     0.0     0.0     0.0  staphylococcus_aureus  \n",
       "1  0.000260     0.0     0.0     0.0     0.0  staphylococcus_aureus  \n",
       "2  0.000000     0.0     0.0     0.0     0.0  staphylococcus_aureus  \n",
       "3  0.000000     0.0     0.0     0.0     0.0  staphylococcus_aureus  \n",
       "4  0.000131     0.0     0.0     0.0     0.0  staphylococcus_aureus  \n",
       "\n",
       "[5 rows x 2081 columns]"
      ]
     },
     "execution_count": 4,
     "metadata": {},
     "output_type": "execute_result"
    }
   ],
   "source": [
    "labels = pd.read_csv('datasets/train_labels.csv')\n",
    "df['genome_label'] = labels\n",
    "df.head()"
   ]
  },
  {
   "cell_type": "code",
   "execution_count": 5,
   "metadata": {},
   "outputs": [
    {
     "data": {
      "text/plain": [
       "(505536, 2081)"
      ]
     },
     "execution_count": 5,
     "metadata": {},
     "output_type": "execute_result"
    }
   ],
   "source": [
    "df.shape"
   ]
  },
  {
   "attachments": {},
   "cell_type": "markdown",
   "metadata": {},
   "source": [
    "# feature selection"
   ]
  },
  {
   "cell_type": "code",
   "execution_count": 6,
   "metadata": {},
   "outputs": [
    {
     "name": "stdout",
     "output_type": "stream",
     "text": [
      "count    505536.000000\n",
      "mean               NaN\n",
      "std           0.000000\n",
      "min           0.000000\n",
      "25%           0.975098\n",
      "50%           1.010742\n",
      "75%           1.039062\n",
      "max           1.311523\n",
      "dtype: float64\n",
      "22011\n",
      "(505536, 2081)\n",
      "(483525, 2081)\n"
     ]
    }
   ],
   "source": [
    "# data cleaning\n",
    "sum_row = df.iloc[:,:-1].sum(axis=1)\n",
    "print(sum_row.describe())\n",
    "print((sum_row < 0.9).sum())\n",
    "\n",
    "# to remove samples with low kmer count\n",
    "print(df.shape)\n",
    "df = df.loc[sum_row >= 0.9,:]\n",
    "print(df.shape)\n",
    "y_index = labels[sum_row >= 0.9]"
   ]
  },
  {
   "cell_type": "code",
   "execution_count": 7,
   "metadata": {},
   "outputs": [
    {
     "data": {
      "text/plain": [
       "AAAAAA    24\n",
       "AAAAAT    26\n",
       "AAAAAG    26\n",
       "AAAAAC    26\n",
       "AAAATA    24\n",
       "          ..\n",
       "CCCAGG     7\n",
       "CCGAGG     7\n",
       "CCCCGG     6\n",
       "CCGCGG     9\n",
       "CCCGGG     6\n",
       "Length: 2080, dtype: int64"
      ]
     },
     "execution_count": 7,
     "metadata": {},
     "output_type": "execute_result"
    }
   ],
   "source": [
    "sum_all = df.groupby('genome_label').sum()\n",
    "s_describe = sum_all.T.describe()\n",
    "select = sum_all.T > s_describe.loc['75%',:]\n",
    "select_sum = select.sum(axis=1)\n",
    "select_sum"
   ]
  },
  {
   "cell_type": "code",
   "execution_count": 8,
   "metadata": {},
   "outputs": [],
   "source": [
    "selected = select_sum>15"
   ]
  },
  {
   "cell_type": "code",
   "execution_count": 9,
   "metadata": {},
   "outputs": [],
   "source": [
    "df = df.iloc[:,:-1].loc[:,selected]\n"
   ]
  },
  {
   "cell_type": "code",
   "execution_count": 10,
   "metadata": {},
   "outputs": [],
   "source": [
    "corr_matrix = df.corr()\n",
    "mask = np.triu(np.ones_like(corr_matrix, dtype=bool)) # remove duplicate upper triangle correlation values\n",
    "corr_matrix = corr_matrix.abs() # create positive correlation matrix\n",
    "tri_df = corr_matrix.mask(mask) # create and apply upper triangle mask"
   ]
  },
  {
   "cell_type": "code",
   "execution_count": 11,
   "metadata": {},
   "outputs": [
    {
     "data": {
      "text/plain": [
       "53"
      ]
     },
     "execution_count": 11,
     "metadata": {},
     "output_type": "execute_result"
    }
   ],
   "source": [
    "to_drop = [c for c in tri_df.columns if any(tri_df[c] > 0.7)]\n",
    "df.drop(columns=to_drop, inplace=True)\n",
    "len(to_drop)"
   ]
  },
  {
   "attachments": {},
   "cell_type": "markdown",
   "metadata": {},
   "source": [
    "# sampling"
   ]
  },
  {
   "cell_type": "code",
   "execution_count": 12,
   "metadata": {},
   "outputs": [],
   "source": [
    "def extract_nc(filename):\n",
    "    nc = []\n",
    "    with open(filename, 'r') as file:\n",
    "        for line in file:\n",
    "            if line.startswith('>'):\n",
    "                header = line.strip().lstrip('>')\n",
    "                parts = header.split()\n",
    "                #print(parts)\n",
    "                if len(parts) >= 1:\n",
    "                    x = parts[1]\n",
    "                    x = x.split(',')[0]\n",
    "                    nc.append(x.split('.')[0])\n",
    "    return nc"
   ]
  },
  {
   "cell_type": "code",
   "execution_count": 13,
   "metadata": {},
   "outputs": [],
   "source": [
    "filename = 'datasets/train.dataset.raw.reads.fna'\n",
    "species = extract_nc(filename)"
   ]
  },
  {
   "cell_type": "code",
   "execution_count": 14,
   "metadata": {},
   "outputs": [
    {
     "name": "stdout",
     "output_type": "stream",
     "text": [
      "(505536, 2)\n"
     ]
    },
    {
     "data": {
      "text/html": [
       "<div>\n",
       "<style scoped>\n",
       "    .dataframe tbody tr th:only-of-type {\n",
       "        vertical-align: middle;\n",
       "    }\n",
       "\n",
       "    .dataframe tbody tr th {\n",
       "        vertical-align: top;\n",
       "    }\n",
       "\n",
       "    .dataframe thead th {\n",
       "        text-align: right;\n",
       "    }\n",
       "</style>\n",
       "<table border=\"1\" class=\"dataframe\">\n",
       "  <thead>\n",
       "    <tr style=\"text-align: right;\">\n",
       "      <th></th>\n",
       "      <th>genome_name</th>\n",
       "      <th>rfseq</th>\n",
       "    </tr>\n",
       "  </thead>\n",
       "  <tbody>\n",
       "    <tr>\n",
       "      <th>0</th>\n",
       "      <td>staphylococcus_aureus</td>\n",
       "      <td>NC_007795</td>\n",
       "    </tr>\n",
       "    <tr>\n",
       "      <th>1</th>\n",
       "      <td>staphylococcus_aureus</td>\n",
       "      <td>NC_007795</td>\n",
       "    </tr>\n",
       "    <tr>\n",
       "      <th>2</th>\n",
       "      <td>staphylococcus_aureus</td>\n",
       "      <td>NC_007795</td>\n",
       "    </tr>\n",
       "    <tr>\n",
       "      <th>3</th>\n",
       "      <td>staphylococcus_aureus</td>\n",
       "      <td>NC_007795</td>\n",
       "    </tr>\n",
       "    <tr>\n",
       "      <th>4</th>\n",
       "      <td>staphylococcus_aureus</td>\n",
       "      <td>NC_007795</td>\n",
       "    </tr>\n",
       "    <tr>\n",
       "      <th>...</th>\n",
       "      <td>...</td>\n",
       "      <td>...</td>\n",
       "    </tr>\n",
       "    <tr>\n",
       "      <th>505531</th>\n",
       "      <td>decoy</td>\n",
       "      <td>NC_000004</td>\n",
       "    </tr>\n",
       "    <tr>\n",
       "      <th>505532</th>\n",
       "      <td>decoy</td>\n",
       "      <td>NC_000017</td>\n",
       "    </tr>\n",
       "    <tr>\n",
       "      <th>505533</th>\n",
       "      <td>decoy</td>\n",
       "      <td>NC_000011</td>\n",
       "    </tr>\n",
       "    <tr>\n",
       "      <th>505534</th>\n",
       "      <td>decoy</td>\n",
       "      <td>NT_167249</td>\n",
       "    </tr>\n",
       "    <tr>\n",
       "      <th>505535</th>\n",
       "      <td>decoy</td>\n",
       "      <td>NC_000002</td>\n",
       "    </tr>\n",
       "  </tbody>\n",
       "</table>\n",
       "<p>505536 rows × 2 columns</p>\n",
       "</div>"
      ],
      "text/plain": [
       "                  genome_name      rfseq\n",
       "0       staphylococcus_aureus  NC_007795\n",
       "1       staphylococcus_aureus  NC_007795\n",
       "2       staphylococcus_aureus  NC_007795\n",
       "3       staphylococcus_aureus  NC_007795\n",
       "4       staphylococcus_aureus  NC_007795\n",
       "...                       ...        ...\n",
       "505531                  decoy  NC_000004\n",
       "505532                  decoy  NC_000017\n",
       "505533                  decoy  NC_000011\n",
       "505534                  decoy  NT_167249\n",
       "505535                  decoy  NC_000002\n",
       "\n",
       "[505536 rows x 2 columns]"
      ]
     },
     "execution_count": 14,
     "metadata": {},
     "output_type": "execute_result"
    }
   ],
   "source": [
    "# labelling for the rfseq numbers\n",
    "\n",
    "sample_label = labels.copy()\n",
    "sample_label['rfseq'] = species\n",
    "print(sample_label.shape)\n",
    "# sample_label.value_counts().to_csv('test.csv')\n",
    "sample_label"
   ]
  },
  {
   "cell_type": "code",
   "execution_count": 15,
   "metadata": {},
   "outputs": [],
   "source": [
    "def sampling(x, frac=None):\n",
    "    \"\"\"\" subsampling certain fraction, unless when the species is only 1 \"\"\"\n",
    "    current = x.shape[0]\n",
    "    if current==1:\n",
    "        return x\n",
    "    x = x.sample(frac=frac, random_state=4)\n",
    "    return x"
   ]
  },
  {
   "cell_type": "code",
   "execution_count": 16,
   "metadata": {},
   "outputs": [
    {
     "data": {
      "text/plain": [
       "Index([421679, 285281, 481246, 263189, 105081, 355473, 317703, 278399, 321451,\n",
       "       470007,\n",
       "       ...\n",
       "        75460,  75461,  75462,  75463,  75464,  75465,  75466,  75467,  75468,\n",
       "        75469],\n",
       "      dtype='int64', length=144030)"
      ]
     },
     "execution_count": 16,
     "metadata": {},
     "output_type": "execute_result"
    }
   ],
   "source": [
    "sample_label = sample_label.loc[sum_row >= 0.9,:]\n",
    "x = sample_label[sample_label['genome_name']=='decoy'].groupby('rfseq').apply(lambda x: sampling(x,0.2)).index.get_level_values(1) # index for selected decoys\n",
    "x2 =sample_label[sample_label['genome_name']!='decoy'].index # index for all organisms\n",
    "x = x.append(x2) # index for all selected samples\n",
    "x"
   ]
  },
  {
   "cell_type": "code",
   "execution_count": 17,
   "metadata": {},
   "outputs": [
    {
     "data": {
      "text/plain": [
       "(144030, 290)"
      ]
     },
     "execution_count": 17,
     "metadata": {},
     "output_type": "execute_result"
    }
   ],
   "source": [
    "df_train = df.loc[x, :]\n",
    "df_train['genome_label'] = y_index\n",
    "df_train.shape"
   ]
  },
  {
   "cell_type": "code",
   "execution_count": 65,
   "metadata": {},
   "outputs": [
    {
     "data": {
      "text/plain": [
       "genome_label\n",
       "decoy                              84893\n",
       "burkholderia_pseudomallei           3787\n",
       "pseudomonas_aeruginosa              3342\n",
       "klebsiella_michiganensis            3166\n",
       "mycobacterium_ulcerans              2999\n",
       "klebsiella_pneumoniae               2840\n",
       "serratia_liquefaciens               2832\n",
       "citrobacter_freundii                2715\n",
       "salmonella_enterica_typhimurium     2594\n",
       "salmonella_enterica_paratyphi       2578\n",
       "yersinia_enterocolitica             2404\n",
       "stenotrophomonas_maltophilia        2388\n",
       "mycobacterium_tuberculosis          2354\n",
       "clostridioides_difficile            2248\n",
       "acinetobacter_baumannii             2124\n",
       "legionella_pneumophila              1801\n",
       "vibrio_parahaemolyticus             1738\n",
       "listeria_monocytogenes              1576\n",
       "vibrio_cholerae                     1561\n",
       "staphylococcus_aureus               1489\n",
       "staphylococcus_pseudintermedius     1376\n",
       "corynebacterium_ulcerans            1306\n",
       "corynebacterium_diphtheriae         1274\n",
       "neisseria_meningitidis              1194\n",
       "streptococcus_equi                  1182\n",
       "neisseria_gonorrhoeae               1150\n",
       "streptococcus_suis                  1128\n",
       "streptococcus_agalactiae            1092\n",
       "streptococcus_pneumoniae            1047\n",
       "staphylococcus_pyogenes              942\n",
       "campylobacter_jejuni                 910\n",
       "Name: count, dtype: int64"
      ]
     },
     "execution_count": 65,
     "metadata": {},
     "output_type": "execute_result"
    }
   ],
   "source": [
    "df_train['genome_label'].value_counts()"
   ]
  },
  {
   "cell_type": "code",
   "execution_count": null,
   "metadata": {},
   "outputs": [],
   "source": [
    "X_train,X_val,y_train,y_val = train_test_split(df_train.iloc[:,:-1],y_index,random_state=4,test_size=0.2, stratify=y_index)\n"
   ]
  },
  {
   "attachments": {},
   "cell_type": "markdown",
   "metadata": {},
   "source": [
    "# dimensional reduction"
   ]
  },
  {
   "cell_type": "code",
   "execution_count": 18,
   "metadata": {},
   "outputs": [],
   "source": [
    "def create_pca(data, seed=4220, save=None):\n",
    "    \"\"\" Returns PCA & transformed data \"\"\"\n",
    "    from sklearn.decomposition import PCA\n",
    "    import pickle as pkl\n",
    "    print(\"shape of data: \", data.shape)\n",
    "\n",
    "    new_pca = PCA(n_components=None, random_state=seed).fit(data)\n",
    "\n",
    "    lim = 0.9\n",
    "    ACC_VAR = 0\n",
    "    for i, var in enumerate(new_pca.explained_variance_ratio_):\n",
    "        ACC_VAR+=var\n",
    "        # print(var)\n",
    "        if ACC_VAR > lim: \n",
    "            print(f\"{i+1} components explained {lim}S of total var\")\n",
    "            break\n",
    "    \n",
    "    new_pca = PCA(n_components=i+1, random_state=seed) \n",
    "    data = new_pca.fit_transform(data)\n",
    "    print(new_pca)\n",
    "    print(\"shape of new data: \", data.shape)\n",
    "\n",
    "    if save!=None:\n",
    "        with open(save, 'wb') as pickle_file:\n",
    "            pkl.dump(new_pca, pickle_file)\n",
    "        print(\"model saved\")\n",
    "\n",
    "    return [new_pca, data]"
   ]
  },
  {
   "cell_type": "code",
   "execution_count": 19,
   "metadata": {},
   "outputs": [
    {
     "name": "stdout",
     "output_type": "stream",
     "text": [
      "shape of data:  (144030, 289)\n",
      "156 components explained 0.9S of total var\n",
      "PCA(n_components=156, random_state=4220)\n",
      "shape of new data:  (144030, 156)\n",
      "model saved\n"
     ]
    }
   ],
   "source": [
    "new_pca, pca_data = create_pca(df_train.iloc[:,:-1], save='models/pca_ver2.pkl')\n"
   ]
  },
  {
   "cell_type": "code",
   "execution_count": null,
   "metadata": {},
   "outputs": [],
   "source": [
    "svd = TruncatedSVD(n_components=500, random_state=4220)\n",
    "svd_data = svd.fit_transform(df_train.iloc[:, :-31]) \n",
    "\n",
    "with open('svd_n500.pkl', 'wb') as pickle_file:\n",
    "    pkl.dump(svd, pickle_file)"
   ]
  },
  {
   "attachments": {},
   "cell_type": "markdown",
   "metadata": {},
   "source": [
    "# model training"
   ]
  },
  {
   "cell_type": "code",
   "execution_count": 23,
   "metadata": {},
   "outputs": [],
   "source": [
    "def create_svm(x_data, y_label, save=None):\n",
    "    \"\"\" training support vector machine \"\"\"\n",
    "    from sklearn.svm import SVC\n",
    "    from joblib import dump\n",
    "    import timeit\n",
    "\n",
    "    print(\"training\")\n",
    "    starting_time = timeit.default_timer()\n",
    "\n",
    "    clf = SVC(kernel='rbf', probability=True)\n",
    "    clf.fit(x_data , y_label)\n",
    "    print(clf)\n",
    "\n",
    "    print(\"Time taken :\", timeit.default_timer() - starting_time)\n",
    "\n",
    "    if save != None:   \n",
    "        dump(clf, save) \n",
    "        print(\"model saved\")\n",
    "    \n",
    "    return clf"
   ]
  },
  {
   "cell_type": "code",
   "execution_count": 24,
   "metadata": {},
   "outputs": [
    {
     "name": "stdout",
     "output_type": "stream",
     "text": [
      "training\n"
     ]
    }
   ],
   "source": [
    "pca_clf = create_svm(pca_data , df_train['genome_label'].values, save='models/svm_ver2.joblib')"
   ]
  },
  {
   "attachments": {},
   "cell_type": "markdown",
   "metadata": {},
   "source": [
    "# testing"
   ]
  },
  {
   "cell_type": "code",
   "execution_count": null,
   "metadata": {},
   "outputs": [],
   "source": [
    "from function import precision_per_patient\n",
    "from joblib import dump, load\n",
    "#load trained model\n",
    "clf = load('svm_ver2.joblib')\n",
    "\n",
    "with open('pca_ver2.pkl', 'rb') as pickle_file: # PCA embeddings trained on full data\n",
    "    preprocess=pkl.load(pickle_file) "
   ]
  },
  {
   "cell_type": "code",
   "execution_count": null,
   "metadata": {},
   "outputs": [],
   "source": [
    "#prediction for all patients\n",
    "def run_test(threshold=0.99, model=clf, preprocess=None):\n",
    "    all_precision = []\n",
    "    for patient_id in range(1,11):\n",
    "        print('predicting for patient {}'.format(patient_id))\n",
    "        \n",
    "        starting_time = timeit.default_timer()\n",
    "        with open('datasets/validation/patient{}.6mer.npy'.format(patient_id), 'rb') as read_file:\n",
    "            df_test = np.load(read_file)\n",
    "            df_test = pd.DataFrame(df_test)\n",
    "            \n",
    "        df_test.columns = six_mers[:2080]\n",
    "        df_test.columns = [col[0] for col in df.columns]    \n",
    "        df_test = df_test.loc[:, df_train.columns]\n",
    "        df_test = preprocess.transform(df_test)\n",
    "        \n",
    "        y_predprob = model.predict_proba(df_test)\n",
    "        \n",
    "        #we get only predictions larger than the threshold and if there is more than one, we take the argmax again\n",
    "        final_predictions = le.inverse_transform(np.unique([np.argmax(item) for item in y_predprob  if len(np.where(item>= threshold)[0]) >=1]\n",
    "                                                    ))\n",
    "        #my pathogens dectected, decoy will be ignored\n",
    "        final_predictions = [item for item in final_predictions if item !='decoy']\n",
    "        \n",
    "        precision = precision_per_patient(patient_id, final_predictions)\n",
    "        print('precision: {}'.format(precision))\n",
    "        all_precision.append(precision)\n",
    "        print(\"Time taken :\", timeit.default_timer() - starting_time)\n",
    "    # performance per patient and its final average\n",
    "    print([f'patient {c}: {item}' for c, item in enumerate(all_precision, start=1)])\n",
    "    print(f'avg: {np.mean(all_precision)}')\n",
    "    return round(np.mean(all_precision), 5)\n",
    "\n",
    "run_test(model=clf, preprocess=preprocess, threshold=0.99)"
   ]
  }
 ],
 "metadata": {
  "kernelspec": {
   "display_name": "Python 3",
   "language": "python",
   "name": "python3"
  },
  "language_info": {
   "codemirror_mode": {
    "name": "ipython",
    "version": 3
   },
   "file_extension": ".py",
   "mimetype": "text/x-python",
   "name": "python",
   "nbconvert_exporter": "python",
   "pygments_lexer": "ipython3",
   "version": "3.10.5"
  },
  "orig_nbformat": 4
 },
 "nbformat": 4,
 "nbformat_minor": 2
}
